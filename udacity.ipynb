{
 "cells": [
  {
   "cell_type": "code",
   "execution_count": 4,
   "metadata": {
    "collapsed": true
   },
   "outputs": [
    {
     "name": "stdout",
     "output_type": "stream",
     "text": [
      "0\n"
     ]
    },
    {
     "name": "stdout",
     "output_type": "stream",
     "text": [
      "{u'status': u'canceled', u'is_udacity': True, u'is_canceled': True, u'join_date': datetime.datetime(2014, 11, 10, 0, 0), u'account_key': u'448', u'cancel_date': datetime.datetime(2015, 1, 14, 0, 0), u'days_to_cancel': 65}\n"
     ]
    },
    {
     "name": "stdout",
     "output_type": "stream",
     "text": [
      "{u'lessons_completed': 0, u'num_courses_visited': 1, u'total_minutes_visited': 11.6793745, u'projects_completed': 0, u'acct': u'0', u'utc_date': datetime.datetime(2015, 1, 9, 0, 0)}\n{u'lesson_key': u'3176718735', u'processing_state': u'EVALUATED', u'account_key': u'256', u'assigned_rating': u'UNGRADED', u'completion_date': datetime.datetime(2015, 1, 16, 0, 0), u'creation_date': datetime.datetime(2015, 1, 14, 0, 0)}\n"
     ]
    }
   ],
   "source": [
    "x = 0\n",
    "print x\n",
    "import unicodecsv \n",
    "from datetime import datetime as dt\n",
    "\n",
    "def read_csv(filename):\n",
    "    with open(filename, 'rb') as f:\n",
    "        reader = unicodecsv.DictReader(f)\n",
    "        return list(reader)\n",
    "\n",
    "def parse_maybe_int(i):\n",
    "    if i == '':\n",
    "        return  None\n",
    "    else:\n",
    "        return int(i)\n",
    "\n",
    "def parse_date(date):\n",
    "    if date == '':\n",
    "        return None\n",
    "    else:\n",
    "        return dt.strptime(date,'%Y-%m-%d')\n",
    "    \n",
    "    \n",
    "\n",
    "enrollments = read_csv('enrollments.csv')\n",
    "daily_engagement = read_csv('daily-engagement.csv')\n",
    "project_submissions = read_csv('project-submissions.csv')\n",
    "\n",
    "for enrollment in enrollments:\n",
    "    enrollment['cancel_date'] = parse_date(enrollment['cancel_date'])\n",
    "    enrollment['days_to_cancel'] = parse_maybe_int(enrollment['days_to_cancel'])\n",
    "    enrollment['is_canceled'] = enrollment['is_canceled'] == 'True'\n",
    "    enrollment['is_udacity'] = enrollment['is_udacity'] == 'True'\n",
    "    enrollment['join_date'] = parse_date(enrollment['join_date'])\n",
    "    \n",
    "print enrollments[0]\n",
    "\n",
    "\n",
    "for engagement_record in daily_engagement:\n",
    "    engagement_record['lessons_completed'] = int(float(engagement_record['lessons_completed']))\n",
    "    engagement_record['num_courses_visited'] = int(float(engagement_record['num_courses_visited']))\n",
    "    engagement_record['projects_completed'] = int(float(engagement_record['projects_completed']))\n",
    "    engagement_record['total_minutes_visited'] = float(engagement_record['total_minutes_visited'])\n",
    "    engagement_record['utc_date'] = parse_date(engagement_record['utc_date'])\n",
    "\n",
    "print daily_engagement[0]\n",
    "\n",
    "\n",
    "for submission in project_submissions:\n",
    "    submission['completion_date'] = parse_date(submission['completion_date'])\n",
    "    submission['creation_date'] = parse_date(submission['creation_date'])\n",
    "\n",
    "print project_submissions[0]"
   ]
  },
  {
   "cell_type": "code",
   "execution_count": 4,
   "metadata": {
    "collapsed": true
   },
   "outputs": [
    {
     "name": "stdout",
     "output_type": "stream",
     "text": [
      "1\n"
     ]
    },
    {
     "name": "stdout",
     "output_type": "stream",
     "text": [
      "1640\n1302\n136240\n1237\n3642\n743\n"
     ]
    }
   ],
   "source": [
    "#排除重复数据\n",
    "x = x + 1\n",
    "print x\n",
    "def get_unique_students(data):\n",
    "    unique_students = set()\n",
    "    for data_point in data:\n",
    "        unique_students.add(data_point['account_key'])\n",
    "    return unique_students\n",
    "\n",
    "for engagement_record in daily_engagement:\n",
    "    engagement_record['account_key'] = engagement_record['acct']\n",
    "    del [engagement_record['acct']]\n",
    "\n",
    "print len(enrollments)\n",
    "unique_enrolled_students = get_unique_students(enrollments)\n",
    "print len(unique_enrolled_students)\n",
    "\n",
    "print len(daily_engagement)\n",
    "unique_engagement_students = get_unique_students(daily_engagement)\n",
    "print len(unique_engagement_students)\n",
    "\n",
    "print len(project_submissions)\n",
    "unique_project_submitters = get_unique_students(project_submissions)\n",
    "print len(unique_project_submitters)"
   ]
  },
  {
   "cell_type": "code",
   "execution_count": 5,
   "metadata": {},
   "outputs": [
    {
     "data": {
      "text/plain": [
       "136240"
      ]
     },
     "execution_count": 5,
     "metadata": {},
     "output_type": "execute_result"
    }
   ],
   "source": [
    "daily_engagement[0]['account_key']\n",
    "len(daily_engagement)"
   ]
  },
  {
   "cell_type": "code",
   "execution_count": 6,
   "metadata": {},
   "outputs": [
    {
     "name": "stdout",
     "output_type": "stream",
     "text": [
      "71\n"
     ]
    }
   ],
   "source": [
    "num_problem_students = 0\n",
    "for engagement in enrollments:\n",
    "    if engagement['account_key'] not in unique_engagement_students and \\\n",
    "                    enrollment['days_to_cancel'] != enrollment['join_date'] :\n",
    "        num_problem_students = num_problem_students + 1\n",
    "        # print enrollment\n",
    "\n",
    "print num_problem_students"
   ]
  },
  {
   "cell_type": "code",
   "execution_count": 30,
   "metadata": {},
   "outputs": [
    {
     "name": "stdout",
     "output_type": "stream",
     "text": [
      "1640\n{u'status': u'current', u'is_udacity': False, u'is_canceled': False, u'join_date': datetime.datetime(2015, 3, 10, 0, 0), u'account_key': u'322', u'cancel_date': None, u'days_to_cancel': None}\n1622\n136240\n135656\n3642\n3634\n"
     ]
    }
   ],
   "source": [
    "udacity_test_accounts = set()\n",
    "for enrollment in enrollments:\n",
    "    if enrollment['is_udacity'] == True:\n",
    "        udacity_test_accounts.add(enrollment['account_key'])\n",
    "        \n",
    "\n",
    "def remove_udacity_accounts(data):\n",
    "    new_data = []\n",
    "    for data_point in data:\n",
    "        if data_point['account_key'] not in udacity_test_accounts:\n",
    "            new_data.append(data_point)\n",
    "            \n",
    "    return new_data\n",
    "\n",
    "new_enrollments = remove_udacity_accounts(enrollments)\n",
    "print len(enrollments)\n",
    "print enrollments[20]\n",
    "print len(new_enrollments)\n",
    "\n",
    "\n",
    "new_daily_engagement = remove_udacity_accounts(daily_engagement)\n",
    "print len(daily_engagement)\n",
    "print len(new_daily_engagement)\n",
    "\n",
    "new_project_submissions = remove_udacity_accounts(project_submissions)\n",
    "print len(project_submissions)\n",
    "print len(new_project_submissions)"
   ]
  },
  {
   "cell_type": "code",
   "execution_count": 47,
   "metadata": {},
   "outputs": [
    {
     "name": "stdout",
     "output_type": "stream",
     "text": [
      "1622\n995\n"
     ]
    }
   ],
   "source": [
    "#find paid students\n",
    "paid_students = {}\n",
    "for enrollment in new_enrollments:\n",
    "    if enrollment['status'] == 'current' or enrollment['days_to_cancel'] > 7:\n",
    "        account_key = enrollment['account_key']\n",
    "       \n",
    "        enrollment_date_value = enrollment['join_date']\n",
    "        if account_key not in paid_students or enrollment_date_value > paid_students[account_key]:\n",
    "            paid_students[account_key] = enrollment_date_value\n",
    "            \n",
    "print len(new_enrollments)\n",
    "print len(paid_students)\n",
    "\n",
    "\n",
    "        "
   ]
  },
  {
   "cell_type": "code",
   "execution_count": 83,
   "metadata": {},
   "outputs": [
    {
     "name": "stdout",
     "output_type": "stream",
     "text": [
      "135656\n6919\n"
     ]
    }
   ],
   "source": [
    "def within_one_week(join_date,engagement_date):\n",
    "    time_delta = engagement_date - join_date\n",
    "    return time_delta.days >= 0 and time_delta.days < 7\n",
    "\n",
    "def remove_free_trial_cancels(data):\n",
    "    new_data = []\n",
    "    for data_point in data:\n",
    "        if data_point['account_key'] in paid_students:\n",
    "            new_data.append(data_point)\n",
    "    return new_data\n",
    "\n",
    "paid_enrollments = remove_free_trial_cancels(new_enrollments)\n",
    "paid_engagement = remove_free_trial_cancels(new_daily_engagement)\n",
    "paid_submissions = remove_free_trial_cancels(new_project_submissions)\n",
    "\n",
    "paid_engagement_in_first_week = []\n",
    "\n",
    "for data_point in paid_engagement:\n",
    "    account = data_point['account_key']\n",
    "    join_date = paid_students[account]\n",
    "    engagement_date = data_point['utc_date']\n",
    "    if within_one_week(join_date,engagement_date):\n",
    "        paid_engagement_in_first_week.append(data_point)\n",
    "    \n",
    "    \n",
    "print len(new_daily_engagement)\n",
    "print len(paid_engagement_in_first_week)\n",
    "       \n"
   ]
  },
  {
   "cell_type": "code",
   "execution_count": 94,
   "metadata": {},
   "outputs": [
    {
     "name": "stdout",
     "output_type": "stream",
     "text": [
      "Mean: 306.708326753\nStandard deviation: 412.996933409\nMinimum: 0.0\nMaximum: 3564.7332645\n\n\nMean: 1.63618090452\nStandard deviation: 3.00256129983\nMinimum: 0\nMaximum: 36\n\n\n"
     ]
    }
   ],
   "source": [
    "from collections import defaultdict\n",
    "import numpy as py\n",
    "\n",
    "def group_data(data, key_name):\n",
    "    grouped_data = defaultdict(list)\n",
    "    for data_point in data:\n",
    "        key = data_point[key_name]\n",
    "        grouped_data[key].append(data_point)\n",
    "    return grouped_data\n",
    "\n",
    "engagement_by_account = group_data(paid_engagement_in_first_week,\n",
    "                                   'account_key')\n",
    "\n",
    "def sum_grouped_items(grouped_data, field_name):\n",
    "    summed_data = {}\n",
    "    for key, data_points in grouped_data.items():\n",
    "        total = 0\n",
    "        for data_point in data_points:\n",
    "            total += data_point[field_name]\n",
    "        summed_data[key] = total\n",
    "    return summed_data\n",
    "\n",
    "def describe_data(data):\n",
    "    print 'Mean:', np.mean(data)\n",
    "    print 'Standard deviation:', np.std(data)\n",
    "    print 'Minimum:', np.min(data)\n",
    "    print 'Maximum:', np.max(data)\n",
    "    print '\\n'\n",
    "\n",
    "total_minutes_by_account = sum_grouped_items(engagement_by_account,\n",
    "                                             'total_minutes_visited')\n",
    "\n",
    "total_lessons_by_account = sum_grouped_items(engagement_by_account,\n",
    "                                             'lessons_completed')\n",
    "\n",
    "describe_data(total_minutes_by_account.values())\n",
    "describe_data(total_lessons_by_account.values())\n",
    "# engagement_by_account = defaultdict(list)\n",
    "# for data_point in paid_engagement_in_first_week:\n",
    "#     account_key = data_point['account_key']\n",
    "#     engagement_by_account[account_key].append(data_point)\n",
    "#     \n",
    "# total_minutes_by_account = {}\n",
    "# for account_key,engagement_for_student in engagement_by_account.items():\n",
    "#     total_minutes = 0\n",
    "#     for student_record in engagement_for_student:\n",
    "#         total_minutes = total_minutes + student_record['total_minutes_visited']\n",
    "#     total_minutes_by_account[account_key] = total_minutes\n",
    "#     \n",
    "# total_minutes = total_minutes_by_account.values()\n",
    "# \n",
    "# import numpy as np\n",
    "# # print 'Total_minutes_by_account: ',total_minutes_by_account\n",
    "# # print 'Total_minutes: ',total_minutes[1]\n",
    "# print 'Mean: ',np.mean(total_minutes)\n",
    "# print 'Std: ',np.std(total_minutes)\n",
    "# print 'Max: ',np.max(total_minutes)\n",
    "# print 'Min: ',np.min(total_minutes)\n"
   ]
  },
  {
   "cell_type": "code",
   "execution_count": 85,
   "metadata": {},
   "outputs": [
    {
     "name": "stdout",
     "output_type": "stream",
     "text": [
      "{u'lessons_completed': 4, u'num_courses_visited': 4, u'total_minutes_visited': 850.519339666, u'projects_completed': 0, 'account_key': u'163', u'utc_date': datetime.datetime(2015, 7, 9, 0, 0)}\n{u'lessons_completed': 6, u'num_courses_visited': 6, u'total_minutes_visited': 872.633923334, u'projects_completed': 0, 'account_key': u'163', u'utc_date': datetime.datetime(2015, 7, 10, 0, 0)}\n{u'lessons_completed': 6, u'num_courses_visited': 2, u'total_minutes_visited': 777.018903666, u'projects_completed': 0, 'account_key': u'163', u'utc_date': datetime.datetime(2015, 7, 11, 0, 0)}\n{u'lessons_completed': 2, u'num_courses_visited': 1, u'total_minutes_visited': 294.568774, u'projects_completed': 0, 'account_key': u'163', u'utc_date': datetime.datetime(2015, 7, 12, 0, 0)}\n{u'lessons_completed': 1, u'num_courses_visited': 3, u'total_minutes_visited': 471.2139785, u'projects_completed': 0, 'account_key': u'163', u'utc_date': datetime.datetime(2015, 7, 13, 0, 0)}\n{u'lessons_completed': 1, u'num_courses_visited': 2, u'total_minutes_visited': 298.778345333, u'projects_completed': 0, 'account_key': u'163', u'utc_date': datetime.datetime(2015, 7, 14, 0, 0)}\n{u'lessons_completed': 0, u'num_courses_visited': 0, u'total_minutes_visited': 0.0, u'projects_completed': 0, 'account_key': u'163', u'utc_date': datetime.datetime(2015, 7, 15, 0, 0)}\n"
     ]
    }
   ],
   "source": [
    "# for account_key in total_minutes_by_account:\n",
    "#     if total_minutes_by_account[account_key] > 10080:\n",
    "#         max_min_student = account_key\n",
    "# \n",
    "# for engagement_record in paid_engagement_in_first_week:\n",
    "#     if engagement_record['account_key'] == max_min_student:\n",
    "#         # print engagement_record\n",
    "\n",
    "# max_minutes = 0  \n",
    "# student_with_max_minutes = None\n",
    "# for key in total_minutes_by_account:\n",
    "#     total_minutes = total_minutes_by_account[key]\n",
    "#     if total_minutes > max_minutes:\n",
    "#         max_minutes = total_minutes\n",
    "#         student_with_max_minutes = key\n",
    "\n",
    "\n",
    "# \n",
    "# for student, total_minutes in total_minutes_by_account.items():\n",
    "#     if total_minutes > max_minutes:\n",
    "#         max_minutes = total_minutes\n",
    "#         student_with_max_minutes = student\n",
    "# \n",
    "# max_minutes\n",
    "\n",
    "# for engagement_record in paid_engagement_in_first_week:\n",
    "#     if engagement_record['account_key'] == student_with_max_minutes:\n",
    "#         print engagement_record"
   ]
  },
  {
   "cell_type": "code",
   "execution_count": 86,
   "metadata": {},
   "outputs": [
    {
     "name": "stdout",
     "output_type": "stream",
     "text": [
      "Mean:  1.63618090452\nStd:  3.00256129983\nMax:  36\nMin:  0\n"
     ]
    }
   ],
   "source": [
    "#第一周完成的课程数\n",
    "\n",
    "    \n",
    "# total_lessons_by_account = {}\n",
    "# for account_key,engagement_for_student in engagement_by_account.items():\n",
    "#     total_lessons = 0\n",
    "#     for student_record in engagement_for_student:\n",
    "#         total_lessons = total_lessons + student_record['lessons_completed']\n",
    "#     total_lessons_by_account[account_key] = total_lessons\n",
    "#     \n",
    "# total_lessons = total_lessons_by_account.values()\n",
    "# \n",
    "# import numpy as np\n",
    "# # print 'Total_minutes_by_account: ',total_minutes_by_account\n",
    "# # print 'Total_minutes: ',total_minutes[1]\n",
    "# print 'Mean: ',np.mean(total_lessons)\n",
    "# print 'Std: ',np.std(total_lessons)\n",
    "# print 'Max: ',np.max(total_lessons)\n",
    "# print 'Min: ',np.min(total_lessons)"
   ]
  },
  {
   "cell_type": "code",
   "execution_count": 98,
   "metadata": {},
   "outputs": [
    {
     "name": "stdout",
     "output_type": "stream",
     "text": [
      "{u'lessons_completed': 0, u'num_courses_visited': 1, 'has_visited': 1, u'total_minutes_visited': 11.6793745, u'projects_completed': 0, 'account_key': u'0', u'utc_date': datetime.datetime(2015, 1, 9, 0, 0)}\nMean: 2.86733668342\nStandard deviation: 2.25519800292\nMinimum: 0\nMaximum: 7\n\n\n"
     ]
    }
   ],
   "source": [
    "#计算上课总天数\n",
    "\n",
    "has_visited_paid_engagement_in_first_week = paid_engagement_in_first_week\n",
    "for data_point in has_visited_paid_engagement_in_first_week:\n",
    "    \n",
    "    if data_point['num_courses_visited'] > 0:\n",
    "        data_point['has_visited'] = 1\n",
    "    else:\n",
    "        data_point['has_visited'] = 0\n",
    "   \n",
    "print has_visited_paid_engagement_in_first_week[0]\n",
    "\n",
    "engagement_by_account_with_has_viited = group_data(has_visited_paid_engagement_in_first_week,\n",
    "                                  'account_key')\n",
    "total_days_visited = sum_grouped_items(engagement_by_account_with_has_viited,'has_visited')\n",
    "describe_data(total_days_visited.values())\n",
    "\n",
    "\n"
   ]
  },
  {
   "cell_type": "code",
   "execution_count": null,
   "metadata": {},
   "outputs": [],
   "source": [
    "passing_engagement = []\n",
    "non_passing_engagement = []\n"
   ]
  }
 ],
 "metadata": {
  "kernelspec": {
   "display_name": "Python 2",
   "language": "python",
   "name": "python2"
  },
  "language_info": {
   "codemirror_mode": {
    "name": "ipython",
    "version": 2
   },
   "file_extension": ".py",
   "mimetype": "text/x-python",
   "name": "python",
   "nbconvert_exporter": "python",
   "pygments_lexer": "ipython2",
   "version": "2.7.6"
  }
 },
 "nbformat": 4,
 "nbformat_minor": 0
}
