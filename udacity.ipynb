{
 "cells": [
  {
   "cell_type": "code",
   "execution_count": 6,
   "metadata": {
    "collapsed": true
   },
   "outputs": [
    {
     "name": "stdout",
     "output_type": "stream",
     "text": [
      "0\n"
     ]
    },
    {
     "name": "stdout",
     "output_type": "stream",
     "text": [
      "{u'status': u'canceled', u'is_udacity': True, u'is_canceled': True, u'join_date': datetime.datetime(2014, 11, 10, 0, 0), u'account_key': u'448', u'cancel_date': datetime.datetime(2015, 1, 14, 0, 0), u'days_to_cancel': 65}\n"
     ]
    },
    {
     "name": "stdout",
     "output_type": "stream",
     "text": [
      "{u'lessons_completed': 0, u'num_courses_visited': 1, u'total_minutes_visited': 11.6793745, u'projects_completed': 0, u'acct': u'0', u'utc_date': datetime.datetime(2015, 1, 9, 0, 0)}\n{u'lesson_key': u'3176718735', u'processing_state': u'EVALUATED', u'account_key': u'256', u'assigned_rating': u'UNGRADED', u'completion_date': datetime.datetime(2015, 1, 16, 0, 0), u'creation_date': datetime.datetime(2015, 1, 14, 0, 0)}\n"
     ]
    }
   ],
   "source": [
    "x = 0\n",
    "print x\n",
    "import unicodecsv \n",
    "from datetime import datetime as dt\n",
    "\n",
    "def read_csv(filename):\n",
    "    with open(filename, 'rb') as f:\n",
    "        reader = unicodecsv.DictReader(f)\n",
    "        return list(reader)\n",
    "\n",
    "def parse_maybe_int(i):\n",
    "    if i == '':\n",
    "        return  None\n",
    "    else:\n",
    "        return int(i)\n",
    "\n",
    "def parse_date(date):\n",
    "    if date == '':\n",
    "        return None\n",
    "    else:\n",
    "        return dt.strptime(date,'%Y-%m-%d')\n",
    "    \n",
    "    \n",
    "\n",
    "enrollments = read_csv('enrollments.csv')\n",
    "daily_engagement = read_csv('daily-engagement.csv')\n",
    "project_submissions = read_csv('project-submissions.csv')\n",
    "\n",
    "for enrollment in enrollments:\n",
    "    enrollment['cancel_date'] = parse_date(enrollment['cancel_date'])\n",
    "    enrollment['days_to_cancel'] = parse_maybe_int(enrollment['days_to_cancel'])\n",
    "    enrollment['is_canceled'] = enrollment['is_canceled'] == 'True'\n",
    "    enrollment['is_udacity'] = enrollment['is_udacity'] == 'True'\n",
    "    enrollment['join_date'] = parse_date(enrollment['join_date'])\n",
    "    \n",
    "print enrollments[0]\n",
    "\n",
    "\n",
    "for engagement_record in daily_engagement:\n",
    "    engagement_record['lessons_completed'] = int(float(engagement_record['lessons_completed']))\n",
    "    engagement_record['num_courses_visited'] = int(float(engagement_record['num_courses_visited']))\n",
    "    engagement_record['projects_completed'] = int(float(engagement_record['projects_completed']))\n",
    "    engagement_record['total_minutes_visited'] = float(engagement_record['total_minutes_visited'])\n",
    "    engagement_record['utc_date'] = parse_date(engagement_record['utc_date'])\n",
    "\n",
    "print daily_engagement[0]\n",
    "\n",
    "\n",
    "for submission in project_submissions:\n",
    "    submission['completion_date'] = parse_date(submission['completion_date'])\n",
    "    submission['creation_date'] = parse_date(submission['creation_date'])\n",
    "\n",
    "print project_submissions[0]"
   ]
  },
  {
   "cell_type": "code",
   "execution_count": 6,
   "metadata": {
    "collapsed": true
   },
   "outputs": [
    {
     "name": "stdout",
     "output_type": "stream",
     "text": [
      "1\n"
     ]
    },
    {
     "name": "stdout",
     "output_type": "stream",
     "text": [
      "1640\n1302\n136240\n1237\n3642\n743\n"
     ]
    }
   ],
   "source": [
    "#排除重复数据\n",
    "x = x + 1\n",
    "print x\n",
    "def get_unique_students(data):\n",
    "    unique_students = set()\n",
    "    for data_point in data:\n",
    "        unique_students.add(data_point['account_key'])\n",
    "    return unique_students\n",
    "\n",
    "for engagement_record in daily_engagement:\n",
    "    engagement_record['account_key'] = engagement_record['acct']\n",
    "    del [engagement_record['acct']]\n",
    "\n",
    "print len(enrollments)\n",
    "unique_enrolled_students = get_unique_students(enrollments)\n",
    "print len(unique_enrolled_students)\n",
    "\n",
    "print len(daily_engagement)\n",
    "unique_engagement_students = get_unique_students(daily_engagement)\n",
    "print len(unique_engagement_students)\n",
    "\n",
    "print len(project_submissions)\n",
    "unique_project_submitters = get_unique_students(project_submissions)\n",
    "print len(unique_project_submitters)"
   ]
  },
  {
   "cell_type": "code",
   "execution_count": 7,
   "metadata": {},
   "outputs": [
    {
     "data": {
      "text/plain": [
       "136240"
      ]
     },
     "execution_count": 7,
     "metadata": {},
     "output_type": "execute_result"
    }
   ],
   "source": [
    "daily_engagement[0]['account_key']\n",
    "len(daily_engagement)"
   ]
  },
  {
   "cell_type": "code",
   "execution_count": 8,
   "metadata": {},
   "outputs": [
    {
     "name": "stdout",
     "output_type": "stream",
     "text": [
      "71\n"
     ]
    }
   ],
   "source": [
    "num_problem_students = 0\n",
    "for engagement in enrollments:\n",
    "    if engagement['account_key'] not in unique_engagement_students and \\\n",
    "                    enrollment['days_to_cancel'] != enrollment['join_date'] :\n",
    "        num_problem_students = num_problem_students + 1\n",
    "        # print enrollment\n",
    "\n",
    "print num_problem_students"
   ]
  },
  {
   "cell_type": "code",
   "execution_count": 9,
   "metadata": {},
   "outputs": [
    {
     "name": "stdout",
     "output_type": "stream",
     "text": [
      "1640\n{u'status': u'current', u'is_udacity': False, u'is_canceled': False, u'join_date': datetime.datetime(2015, 3, 10, 0, 0), u'account_key': u'322', u'cancel_date': None, u'days_to_cancel': None}\n1622\n136240\n135656\n3642\n3634\n"
     ]
    }
   ],
   "source": [
    "udacity_test_accounts = set()\n",
    "for enrollment in enrollments:\n",
    "    if enrollment['is_udacity'] == True:\n",
    "        udacity_test_accounts.add(enrollment['account_key'])\n",
    "        \n",
    "\n",
    "def remove_udacity_accounts(data):\n",
    "    new_data = []\n",
    "    for data_point in data:\n",
    "        if data_point['account_key'] not in udacity_test_accounts:\n",
    "            new_data.append(data_point)\n",
    "            \n",
    "    return new_data\n",
    "\n",
    "new_enrollments = remove_udacity_accounts(enrollments)\n",
    "print len(enrollments)\n",
    "print enrollments[20]\n",
    "print len(new_enrollments)\n",
    "\n",
    "\n",
    "new_daily_engagement = remove_udacity_accounts(daily_engagement)\n",
    "print len(daily_engagement)\n",
    "print len(new_daily_engagement)\n",
    "\n",
    "new_project_submissions = remove_udacity_accounts(project_submissions)\n",
    "print len(project_submissions)\n",
    "print len(new_project_submissions)"
   ]
  },
  {
   "cell_type": "code",
   "execution_count": 10,
   "metadata": {},
   "outputs": [
    {
     "name": "stdout",
     "output_type": "stream",
     "text": [
      "1622\n995\n"
     ]
    }
   ],
   "source": [
    "#find paid students\n",
    "paid_students = {}\n",
    "for enrollment in new_enrollments:\n",
    "    if enrollment['status'] == 'current' or enrollment['days_to_cancel'] > 7:\n",
    "        account_key = enrollment['account_key']\n",
    "       \n",
    "        enrollment_date_value = enrollment['join_date']\n",
    "        if account_key not in paid_students or enrollment_date_value > paid_students[account_key]:\n",
    "            paid_students[account_key] = enrollment_date_value\n",
    "            \n",
    "print len(new_enrollments)\n",
    "print len(paid_students)"
   ]
  },
  {
   "cell_type": "code",
   "execution_count": 11,
   "metadata": {},
   "outputs": [
    {
     "name": "stdout",
     "output_type": "stream",
     "text": [
      "135656\n6919\n"
     ]
    }
   ],
   "source": [
    "def within_one_week(join_date,engagement_date):\n",
    "    time_delta = engagement_date - join_date\n",
    "    return time_delta.days >= 0 and time_delta.days < 7\n",
    "\n",
    "def remove_free_trial_cancels(data):\n",
    "    new_data = []\n",
    "    for data_point in data:\n",
    "        if data_point['account_key'] in paid_students:\n",
    "            new_data.append(data_point)\n",
    "    return new_data\n",
    "\n",
    "paid_enrollments = remove_free_trial_cancels(new_enrollments)\n",
    "paid_engagement = remove_free_trial_cancels(new_daily_engagement)\n",
    "paid_submissions = remove_free_trial_cancels(new_project_submissions)\n",
    "\n",
    "paid_engagement_in_first_week = []\n",
    "\n",
    "for data_point in paid_engagement:\n",
    "    account = data_point['account_key']\n",
    "    join_date = paid_students[account]\n",
    "    engagement_date = data_point['utc_date']\n",
    "    if within_one_week(join_date,engagement_date):\n",
    "        paid_engagement_in_first_week.append(data_point)\n",
    "    \n",
    "    \n",
    "print len(new_daily_engagement)\n",
    "print len(paid_engagement_in_first_week)"
   ]
  },
  {
   "cell_type": "code",
   "execution_count": 13,
   "metadata": {},
   "outputs": [
    {
     "name": "stdout",
     "output_type": "stream",
     "text": [
      " Mean: 306.708326753\nStandard deviation: 412.996933409\nMinimum: 0.0\nMaximum: 3564.7332645\n\n\nMean: 1.63618090452\nStandard deviation: 3.00256129983\nMinimum: 0\nMaximum: 36\n\n\n"
     ]
    }
   ],
   "source": [
    "from collections import defaultdict\n",
    "import numpy as np\n",
    "\n",
    "def group_data(data, key_name):\n",
    "    grouped_data = defaultdict(list)\n",
    "    for data_point in data:\n",
    "        key = data_point[key_name]\n",
    "        grouped_data[key].append(data_point)\n",
    "    return grouped_data\n",
    "\n",
    "engagement_by_account = group_data(paid_engagement_in_first_week,\n",
    "                                   'account_key')\n",
    "\n",
    "def sum_grouped_items(grouped_data, field_name):\n",
    "    summed_data = {}\n",
    "    for key, data_points in grouped_data.items():\n",
    "        total = 0\n",
    "        for data_point in data_points:\n",
    "            total += data_point[field_name]\n",
    "        summed_data[key] = total\n",
    "    return summed_data\n",
    "\n",
    "def describe_data(data):\n",
    "    print 'Mean:', np.mean(data)\n",
    "    print 'Standard deviation:', np.std(data)\n",
    "    print 'Minimum:', np.min(data)\n",
    "    print 'Maximum:', np.max(data)\n",
    "    print '\\n'\n",
    "\n",
    "total_minutes_by_account = sum_grouped_items(engagement_by_account,\n",
    "                                             'total_minutes_visited')\n",
    "\n",
    "total_lessons_by_account = sum_grouped_items(engagement_by_account,\n",
    "                                             'lessons_completed')\n",
    "\n",
    "describe_data(total_minutes_by_account.values())\n",
    "describe_data(total_lessons_by_account.values())\n",
    "# engagement_by_account = defaultdict(list)\n",
    "# for data_point in paid_engagement_in_first_week:\n",
    "#     account_key = data_point['account_key']\n",
    "#     engagement_by_account[account_key].append(data_point)\n",
    "#     \n",
    "# total_minutes_by_account = {}\n",
    "# for account_key,engagement_for_student in engagement_by_account.items():\n",
    "#     total_minutes = 0\n",
    "#     for student_record in engagement_for_student:\n",
    "#         total_minutes = total_minutes + student_record['total_minutes_visited']\n",
    "#     total_minutes_by_account[account_key] = total_minutes\n",
    "#     \n",
    "# total_minutes = total_minutes_by_account.values()\n",
    "# \n",
    "# import numpy as np\n",
    "# # print 'Total_minutes_by_account: ',total_minutes_by_account\n",
    "# # print 'Total_minutes: ',total_minutes[1]\n",
    "# print 'Mean: ',np.mean(total_minutes)\n",
    "# print 'Std: ',np.std(total_minutes)\n",
    "# print 'Max: ',np.max(total_minutes)\n",
    "# print 'Min: ',np.min(total_minutes)"
   ]
  },
  {
   "cell_type": "code",
   "execution_count": 14,
   "metadata": {},
   "outputs": [],
   "source": [
    "# for account_key in total_minutes_by_account:\n",
    "#     if total_minutes_by_account[account_key] > 10080:\n",
    "#         max_min_student = account_key\n",
    "# \n",
    "# for engagement_record in paid_engagement_in_first_week:\n",
    "#     if engagement_record['account_key'] == max_min_student:\n",
    "#         # print engagement_record\n",
    "\n",
    "# max_minutes = 0  \n",
    "# student_with_max_minutes = None\n",
    "# for key in total_minutes_by_account:\n",
    "#     total_minutes = total_minutes_by_account[key]\n",
    "#     if total_minutes > max_minutes:\n",
    "#         max_minutes = total_minutes\n",
    "#         student_with_max_minutes = key\n",
    "\n",
    "\n",
    "# \n",
    "# for student, total_minutes in total_minutes_by_account.items():\n",
    "#     if total_minutes > max_minutes:\n",
    "#         max_minutes = total_minutes\n",
    "#         student_with_max_minutes = student\n",
    "# \n",
    "# max_minutes\n",
    "\n",
    "# for engagement_record in paid_engagement_in_first_week:\n",
    "#     if engagement_record['account_key'] == student_with_max_minutes:\n",
    "#         print engagement_record"
   ]
  },
  {
   "cell_type": "code",
   "execution_count": 15,
   "metadata": {},
   "outputs": [],
   "source": [
    "#第一周完成的课程数\n",
    "\n",
    "    \n",
    "# total_lessons_by_account = {}\n",
    "# for account_key,engagement_for_student in engagement_by_account.items():\n",
    "#     total_lessons = 0\n",
    "#     for student_record in engagement_for_student:\n",
    "#         total_lessons = total_lessons + student_record['lessons_completed']\n",
    "#     total_lessons_by_account[account_key] = total_lessons\n",
    "#     \n",
    "# total_lessons = total_lessons_by_account.values()\n",
    "# \n",
    "# import numpy as np\n",
    "# # print 'Total_minutes_by_account: ',total_minutes_by_account\n",
    "# # print 'Total_minutes: ',total_minutes[1]\n",
    "# print 'Mean: ',np.mean(total_lessons)\n",
    "# print 'Std: ',np.std(total_lessons)\n",
    "# print 'Max: ',np.max(total_lessons)\n",
    "# print 'Min: ',np.min(total_lessons)"
   ]
  },
  {
   "cell_type": "code",
   "execution_count": 16,
   "metadata": {},
   "outputs": [
    {
     "name": "stdout",
     "output_type": "stream",
     "text": [
      "{u'lessons_completed': 0, u'num_courses_visited': 1, 'has_visited': 1, u'total_minutes_visited': 11.6793745, u'projects_completed': 0, 'account_key': u'0', u'utc_date': datetime.datetime(2015, 1, 9, 0, 0)}\nMean: 2.86733668342\nStandard deviation: 2.25519800292\nMinimum: 0\nMaximum: 7\n\n\n"
     ]
    }
   ],
   "source": [
    "#计算上课总天数\n",
    "\n",
    "has_visited_paid_engagement_in_first_week = paid_engagement_in_first_week\n",
    "for data_point in has_visited_paid_engagement_in_first_week:\n",
    "    \n",
    "    if data_point['num_courses_visited'] > 0:\n",
    "        data_point['has_visited'] = 1\n",
    "    else:\n",
    "        data_point['has_visited'] = 0\n",
    "   \n",
    "print has_visited_paid_engagement_in_first_week[0]\n",
    "\n",
    "engagement_by_account_with_has_viited = group_data(has_visited_paid_engagement_in_first_week,\n",
    "                                  'account_key')\n",
    "total_days_visited = sum_grouped_items(engagement_by_account_with_has_viited,'has_visited')\n",
    "describe_data(total_days_visited.values())"
   ]
  },
  {
   "cell_type": "code",
   "execution_count": 30,
   "metadata": {},
   "outputs": [
    {
     "name": "stdout",
     "output_type": "stream",
     "text": [
      "651\n483\n6919\n4527\n2392\n"
     ]
    }
   ],
   "source": [
    "subway_project_lesson_keys = ['746169184', '3176718735']\n",
    "passing_students = set()\n",
    "\n",
    "passing_engagement = []\n",
    "non_passing_engagement = []\n",
    "\n",
    "for submission in new_project_submissions:\n",
    "    if submission['lesson_key'] in subway_project_lesson_keys:\n",
    "        \n",
    "        if submission['assigned_rating'] == 'PASSED' or submission['assigned_rating'] =='DISTINCTION':\n",
    "            passing_students.add(submission['account_key'])\n",
    "      \n",
    "            \n",
    "print len(passing_students)\n",
    "\n",
    "print len(non_passing_students)\n",
    "\n",
    "for data_point in has_visited_paid_engagement_in_first_week:\n",
    "    if data_point['account_key'] in passing_students:\n",
    "        passing_engagement.append(data_point)\n",
    "    else:\n",
    "        non_passing_engagement.append(data_point)\n",
    "  \n",
    "print len(has_visited_paid_engagement_in_first_week)      \n",
    "print len(passing_engagement)\n",
    "\n",
    "print len(non_passing_engagement)"
   ]
  },
  {
   "cell_type": "code",
   "execution_count": 33,
   "metadata": {},
   "outputs": [
    {
     "name": "stdout",
     "output_type": "stream",
     "text": [
      "Mean: 394.586046484\nStandard deviation: 448.499519327\nMinimum: 0.0\nMaximum: 3564.7332645\n\n\nMean: 143.326474267\nStandard deviation: 269.538619011\nMinimum: 0.0\nMaximum: 1768.52274933\n\n\nMean: 2.05255023184\nStandard deviation: 3.14222705558\nMinimum: 0\nMaximum: 36\n\n\nMean: 0.862068965517\nStandard deviation: 2.54915994183\nMinimum: 0\nMaximum: 27\n\n\nMean: 3.38485316847\nStandard deviation: 2.25882147092\nMinimum: 0\nMaximum: 7\n\n\nMean: 1.90517241379\nStandard deviation: 1.90573144136\nMinimum: 0\nMaximum: 7\n\n\n"
     ]
    }
   ],
   "source": [
    "#两组学生的指标差异\n",
    "engagement_by_account_passing = group_data(passing_engagement,'account_key')\n",
    "engagement_by_account_non_passing = group_data(non_passing_engagement,'account_key')\n",
    "\n",
    "total_minutes_by_account_passing = sum_grouped_items(engagement_by_account_passing,\n",
    "                                             'total_minutes_visited')\n",
    "\n",
    "total_lessons_by_account_passing = sum_grouped_items(engagement_by_account_passing,\n",
    "                                             'lessons_completed')\n",
    "total_days_by_account_passing = sum_grouped_items(engagement_by_account_passing,\n",
    "                                             'has_visited')\n",
    "\n",
    "total_minutes_by_account_non_passing = sum_grouped_items(engagement_by_account_non_passing,\n",
    "                                             'total_minutes_visited')\n",
    "\n",
    "total_lessons_by_account_non_passing = sum_grouped_items(engagement_by_account_non_passing,\n",
    "                                             'lessons_completed')\n",
    "total_days_by_account_non_passing = sum_grouped_items(engagement_by_account_non_passing,\n",
    "                                             'has_visited')\n",
    "\n",
    "describe_data(total_minutes_by_account_passing.values())\n",
    "describe_data(total_minutes_by_account_non_passing.values())\n",
    "describe_data(total_lessons_by_account_passing.values())\n",
    "describe_data(total_lessons_by_account_non_passing.values())\n",
    "describe_data(total_days_by_account_passing.values())\n",
    "describe_data(total_days_by_account_non_passing.values())"
   ]
  },
  {
   "cell_type": "code",
   "execution_count": 50,
   "metadata": {},
   "outputs": [
    {
     "data": {
      "text/plain": [
       "(array([ 370.,  155.,   83.,   19.,   10.,    4.,    2.,    3.,    0.,    1.]),\n array([    0.        ,   356.47332645,   712.9466529 ,  1069.41997935,\n         1425.8933058 ,  1782.36663225,  2138.8399587 ,  2495.31328515,\n         2851.7866116 ,  3208.25993805,  3564.7332645 ]),\n <a list of 10 Patch objects>)"
      ]
     },
     "execution_count": 50,
     "metadata": {},
     "output_type": "execute_result"
    },
    {
     "data": {
      "image/png": "[encoded data removed]",
      "text/plain": [
       "<matplotlib.figure.Figure at 0xfa85e80>"
      ]
     },
     "metadata": {},
     "output_type": "display_data"
    }
   ],
   "source": [
    "%matplotlib inline\n",
    "import matplotlib.pyplot as plt\n",
    "import numpy as np\n",
    "plt.hist(total_minutes_by_account_passing.values())"
   ]
  },
  {
   "cell_type": "code",
   "execution_count": 41,
   "metadata": {},
   "outputs": [
    {
     "data": {
      "text/plain": [
       "(array([ 272.,   34.,   17.,    9.,    6.,    2.,    1.,    5.,    0.,    2.]),\n array([    0.        ,   176.85227493,   353.70454987,   530.5568248 ,\n          707.40909973,   884.26137467,  1061.1136496 ,  1237.96592453,\n         1414.81819947,  1591.6704744 ,  1768.52274933]),\n <a list of 10 Patch objects>)"
      ]
     },
     "execution_count": 41,
     "metadata": {},
     "output_type": "execute_result"
    },
    {
     "data": {
      "image/png": "[encoded data removed]",
      "text/plain": [
       "<matplotlib.figure.Figure at 0xc29f5f8>"
      ]
     },
     "metadata": {},
     "output_type": "display_data"
    }
   ],
   "source": [
    "plt.hist(total_minutes_by_account_non_passing.values())"
   ]
  },
  {
   "cell_type": "code",
   "execution_count": 42,
   "metadata": {},
   "outputs": [
    {
     "data": {
      "text/plain": [
       "(array([ 516.,   97.,   23.,    4.,    3.,    3.,    0.,    0.,    0.,    1.]),\n array([  0. ,   3.6,   7.2,  10.8,  14.4,  18. ,  21.6,  25.2,  28.8,\n         32.4,  36. ]),\n <a list of 10 Patch objects>)"
      ]
     },
     "execution_count": 42,
     "metadata": {},
     "output_type": "execute_result"
    },
    {
     "data": {
      "image/png": "[encoded data removed]",
      "text/plain": [
       "<matplotlib.figure.Figure at 0xda8cd68>"
      ]
     },
     "metadata": {},
     "output_type": "display_data"
    }
   ],
   "source": [
    "plt.hist(total_lessons_by_account_passing.values())"
   ]
  },
  {
   "cell_type": "code",
   "execution_count": 43,
   "metadata": {},
   "outputs": [
    {
     "data": {
      "text/plain": [
       "(array([ 317.,   17.,    6.,    4.,    1.,    1.,    0.,    1.,    0.,    1.]),\n array([  0. ,   2.7,   5.4,   8.1,  10.8,  13.5,  16.2,  18.9,  21.6,\n         24.3,  27. ]),\n <a list of 10 Patch objects>)"
      ]
     },
     "execution_count": 43,
     "metadata": {},
     "output_type": "execute_result"
    },
    {
     "data": {
      "image/png": "[encoded data removed]",
      "text/plain": [
       "<matplotlib.figure.Figure at 0xdbfe898>"
      ]
     },
     "metadata": {},
     "output_type": "display_data"
    }
   ],
   "source": [
    "plt.hist(total_lessons_by_account_non_passing.values())"
   ]
  },
  {
   "cell_type": "code",
   "execution_count": 44,
   "metadata": {},
   "outputs": [
    {
     "data": {
      "text/plain": [
       "(array([ 87.,  82.,  79.,   0.,  91.,  77.,   0.,  85.,  78.,  68.]),\n array([ 0. ,  0.7,  1.4,  2.1,  2.8,  3.5,  4.2,  4.9,  5.6,  6.3,  7. ]),\n <a list of 10 Patch objects>)"
      ]
     },
     "execution_count": 44,
     "metadata": {},
     "output_type": "execute_result"
    },
    {
     "data": {
      "image/png": "[encoded data removed]",
      "text/plain": [
       "<matplotlib.figure.Figure at 0xea362b0>"
      ]
     },
     "metadata": {},
     "output_type": "display_data"
    }
   ],
   "source": [
    "plt.hist(total_days_by_account_passing.values())"
   ]
  },
  {
   "cell_type": "code",
   "execution_count": 45,
   "metadata": {},
   "outputs": [
    {
     "data": {
      "text/plain": [
       "(array([ 97.,  90.,  56.,   0.,  41.,  15.,   0.,  24.,  17.,   8.]),\n array([ 0. ,  0.7,  1.4,  2.1,  2.8,  3.5,  4.2,  4.9,  5.6,  6.3,  7. ]),\n <a list of 10 Patch objects>)"
      ]
     },
     "execution_count": 45,
     "metadata": {},
     "output_type": "execute_result"
    },
    {
     "data": {
      "image/png": "[encoded data removed]",
      "text/plain": [
       "<matplotlib.figure.Figure at 0xb3ae208>"
      ]
     },
     "metadata": {},
     "output_type": "display_data"
    }
   ],
   "source": [
    "plt.hist(total_days_by_account_non_passing.values())"
   ]
  },
  {
   "cell_type": "code",
   "execution_count": null,
   "metadata": {},
   "outputs": [],
   "source": [
    ""
   ]
  }
 ],
 "metadata": {
  "kernelspec": {
   "display_name": "Python 2",
   "language": "python",
   "name": "python2"
  },
  "language_info": {
   "codemirror_mode": {
    "name": "ipython",
    "version": 2.0
   },
   "file_extension": ".py",
   "mimetype": "text/x-python",
   "name": "python",
   "nbconvert_exporter": "python",
   "pygments_lexer": "ipython2",
   "version": "2.7.6"
  }
 },
 "nbformat": 4,
 "nbformat_minor": 0
}